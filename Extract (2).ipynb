{
 "cells": [
  {
   "cell_type": "markdown",
   "metadata": {},
   "source": [
    "4 sections of codes are prepared for different tasks in open campus job\n",
    "These 4 sections are all sucessful codes. /n Substitution is required in 'dir' to be viable in your case. High-performance rewrite may needed to deal with big data."
   ]
  }
 ],
 "metadata": {
  "kernelspec": {
   "display_name": "base",
   "language": "python",
   "name": "python3"
  },
  "language_info": {
   "name": "python",
   "version": "3.7.3"
  }
 },
 "nbformat": 4,
 "nbformat_minor": 2
}
